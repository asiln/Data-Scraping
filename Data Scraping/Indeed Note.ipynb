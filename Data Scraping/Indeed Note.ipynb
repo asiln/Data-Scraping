{
 "cells": [
  {
   "cell_type": "markdown",
   "id": "6f41d9b6",
   "metadata": {},
   "source": [
    "# Combined"
   ]
  },
  {
   "cell_type": "code",
   "execution_count": 7,
   "id": "8c42a31a",
   "metadata": {},
   "outputs": [],
   "source": [
    "import csv\n",
    "from datetime import datetime\n",
    "import requests\n",
    "from bs4 import BeautifulSoup\n",
    "\n",
    "def get_url(position, location):\n",
    "    template= 'https://ae.indeed.com/jobs?q={}&l={}'\n",
    "    url = template.format(position, location)\n",
    "    return url\n",
    "\n",
    "def get_record(card):\n",
    "    atag= card.h2.a\n",
    "    job_title = card.h2.a.span.text\n",
    "    job_url = \"https://ae.indeed.com\" + atag.get('href')\n",
    "    company=card.find(\"span\",\"companyName\").text\n",
    "    job_location = card.find(\"div\",\"companyLocation\").text\n",
    "#     try:\n",
    "#         job_summary = card.find(\"div\",\"job-snippet\").text.strip()\n",
    "#     except:\n",
    "#         job_summary=''\n",
    "    try:\n",
    "        post_date = card.find('span','date').text\n",
    "    except:\n",
    "        post_date = ''\n",
    "    today = datetime.today().strftime('%Y-%m-%d')\n",
    "    summary_response = requests.get(job_url)\n",
    "    summary_soup = BeautifulSoup(summary_response.text,'html.parser')\n",
    "    try:\n",
    "        summary = summary_soup.find(\"div\",\"jobsearch-jobDescriptionText\").text\n",
    "    except:\n",
    "        summary=''\n",
    "    record = (job_title, company, job_location, post_date, today, summary, job_url)\n",
    "    \n",
    "    return record\n",
    "\n",
    "def main(position, location):\n",
    "    records = []\n",
    "    print(position)\n",
    "    url = get_url(position, location)\n",
    "    \n",
    "    while True:\n",
    "        response = requests.get(url)\n",
    "        time.sleep(5)\n",
    "        soup = BeautifulSoup(response.text,'html.parser')\n",
    "        cards = soup.find_all('div','job_seen_beacon')\n",
    "\n",
    "        for card in cards:\n",
    "            record = get_record(card)\n",
    "            records.append(record)\n",
    "\n",
    "        try:\n",
    "            url = 'https://ae.indeed.com'+soup.find('a',{'aria-label':'Next'}).get('href')\n",
    "        except:\n",
    "            break\n",
    "    \n",
    "    file_name = position+\"2.csv\"\n",
    "    with open(file_name, 'w', newline='', encoding = 'utf-8') as f:\n",
    "        writer = csv.writer(f)\n",
    "        writer.writerow(['JobTitle','Company','Location','PostDate','ExtractDate','Summary','JobUrl'])\n",
    "        writer.writerows(records)"
   ]
  },
  {
   "cell_type": "code",
   "execution_count": 2,
   "id": "05e8f75f",
   "metadata": {},
   "outputs": [
    {
     "name": "stdout",
     "output_type": "stream",
     "text": [
      "Pharmaceutical\n",
      "Automobile\n",
      "Retail\n",
      "E-commerce\n",
      "Cybersecurity\n"
     ]
    }
   ],
   "source": [
    "domain_list=[\"Pharmaceutical\", \"Automobile\", \"Retail\", \"E-commerce\", \"Cybersecurity\"]\n",
    "for i in domain_list:\n",
    "    main(i,'uae')"
   ]
  },
  {
   "cell_type": "code",
   "execution_count": 8,
   "id": "67f4efa1",
   "metadata": {},
   "outputs": [
    {
     "name": "stdout",
     "output_type": "stream",
     "text": [
      "Pharmaceutical\n"
     ]
    }
   ],
   "source": [
    "main(\"Pharmaceutical\",'uae')"
   ]
  }
 ],
 "metadata": {
  "kernelspec": {
   "display_name": "Python 3 (ipykernel)",
   "language": "python",
   "name": "python3"
  },
  "language_info": {
   "codemirror_mode": {
    "name": "ipython",
    "version": 3
   },
   "file_extension": ".py",
   "mimetype": "text/x-python",
   "name": "python",
   "nbconvert_exporter": "python",
   "pygments_lexer": "ipython3",
   "version": "3.7.8"
  }
 },
 "nbformat": 4,
 "nbformat_minor": 5
}
